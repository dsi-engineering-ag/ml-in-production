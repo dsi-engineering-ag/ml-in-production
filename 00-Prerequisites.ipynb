{
 "cells": [
  {
   "cell_type": "markdown",
   "id": "treated-vancouver",
   "metadata": {},
   "source": [
    "# Vorbereitungsarbeiten\n"
   ]
  },
  {
   "cell_type": "markdown",
   "id": "personal-arkansas",
   "metadata": {},
   "source": [
    "Dieses Notebook bietet eine Interaktive Umgebung, damit die Python & Scikit-Learn Tutorials abgearbeitet werden können.\n",
    "\n",
    "Folgende Tutorials werden empfohlen:\n",
    "\n",
    "**Python**\n",
    "- https://learnpython.org\n",
    "\n",
    "**Scikit-Learn**\n",
    "- https://scikit-learn.org/stable/tutorial/basic/tutorial.html#machine-learning-the-problem-setting"
   ]
  },
  {
   "cell_type": "code",
   "execution_count": null,
   "id": "military-termination",
   "metadata": {},
   "outputs": [],
   "source": []
  }
 ],
 "metadata": {
  "kernelspec": {
   "display_name": "Python 3",
   "language": "python",
   "name": "python3"
  },
  "language_info": {
   "codemirror_mode": {
    "name": "ipython",
    "version": 3
   },
   "file_extension": ".py",
   "mimetype": "text/x-python",
   "name": "python",
   "nbconvert_exporter": "python",
   "pygments_lexer": "ipython3",
   "version": "3.8.8"
  }
 },
 "nbformat": 4,
 "nbformat_minor": 5
}
